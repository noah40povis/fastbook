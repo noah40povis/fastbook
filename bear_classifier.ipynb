{
  "nbformat": 4,
  "nbformat_minor": 0,
  "metadata": {
    "colab": {
      "name": "bear_classifier.ipynb",
      "provenance": [],
      "authorship_tag": "ABX9TyP0heaPiMDUS+YMyMOLN6/w",
      "include_colab_link": true
    },
    "kernelspec": {
      "name": "python3",
      "display_name": "Python 3"
    },
    "widgets": {
      "application/vnd.jupyter.widget-state+json": {
        "29c5c056036447b5baf3064dd756fc3e": {
          "model_module": "@jupyter-widgets/controls",
          "model_name": "VBoxModel",
          "state": {
            "_view_name": "VBoxView",
            "_dom_classes": [],
            "_model_name": "VBoxModel",
            "_view_module": "@jupyter-widgets/controls",
            "_model_module_version": "1.5.0",
            "_view_count": null,
            "_view_module_version": "1.5.0",
            "box_style": "",
            "layout": "IPY_MODEL_18438da902604355aadc1f0b3b796350",
            "_model_module": "@jupyter-widgets/controls",
            "children": [
              "IPY_MODEL_0cf5bfe679e248c08af88bcaa3883df2",
              "IPY_MODEL_38c18df29140431ea76258f78b0902f2",
              "IPY_MODEL_85c168ba8fc54bd59837e2290d8b3a2c",
              "IPY_MODEL_0b509b87be2b46a799c69dad8c28b8ae"
            ]
          }
        },
        "18438da902604355aadc1f0b3b796350": {
          "model_module": "@jupyter-widgets/base",
          "model_name": "LayoutModel",
          "state": {
            "_view_name": "LayoutView",
            "grid_template_rows": null,
            "right": null,
            "justify_content": null,
            "_view_module": "@jupyter-widgets/base",
            "overflow": null,
            "_model_module_version": "1.2.0",
            "_view_count": null,
            "flex_flow": null,
            "width": null,
            "min_width": null,
            "border": null,
            "align_items": null,
            "bottom": null,
            "_model_module": "@jupyter-widgets/base",
            "top": null,
            "grid_column": null,
            "overflow_y": null,
            "overflow_x": null,
            "grid_auto_flow": null,
            "grid_area": null,
            "grid_template_columns": null,
            "flex": null,
            "_model_name": "LayoutModel",
            "justify_items": null,
            "grid_row": null,
            "max_height": null,
            "align_content": null,
            "visibility": null,
            "align_self": null,
            "height": null,
            "min_height": null,
            "padding": null,
            "grid_auto_rows": null,
            "grid_gap": null,
            "max_width": null,
            "order": null,
            "_view_module_version": "1.2.0",
            "grid_template_areas": null,
            "object_position": null,
            "object_fit": null,
            "grid_auto_columns": null,
            "margin": null,
            "display": null,
            "left": null
          }
        },
        "0cf5bfe679e248c08af88bcaa3883df2": {
          "model_module": "@jupyter-widgets/controls",
          "model_name": "LabelModel",
          "state": {
            "_view_name": "LabelView",
            "style": "IPY_MODEL_945857e9489c4d749b66b750b7ca54f7",
            "_dom_classes": [],
            "description": "",
            "_model_name": "LabelModel",
            "placeholder": "​",
            "_view_module": "@jupyter-widgets/controls",
            "_model_module_version": "1.5.0",
            "value": "Select your bear!",
            "_view_count": null,
            "_view_module_version": "1.5.0",
            "description_tooltip": null,
            "_model_module": "@jupyter-widgets/controls",
            "layout": "IPY_MODEL_2eea91de3c8342ed91da28c605271757"
          }
        },
        "38c18df29140431ea76258f78b0902f2": {
          "model_module": "@jupyter-widgets/controls",
          "model_name": "FileUploadModel",
          "state": {
            "_view_name": "FileUploadView",
            "_counter": 2,
            "style": "IPY_MODEL_8e0fddce758a4078837615f16953f5ae",
            "_dom_classes": [],
            "description": "Upload",
            "multiple": false,
            "_model_name": "FileUploadModel",
            "data": [
              null
            ],
            "button_style": "",
            "_view_module": "@jupyter-widgets/controls",
            "_model_module_version": "1.5.0",
            "accept": "",
            "_view_count": null,
            "disabled": false,
            "_view_module_version": "1.5.0",
            "error": "",
            "description_tooltip": null,
            "metadata": [
              {
                "name": "download (1).jpeg",
                "type": "image/jpeg",
                "size": 10399,
                "lastModified": 1607997699838
              }
            ],
            "_model_module": "@jupyter-widgets/controls",
            "layout": "IPY_MODEL_406a4a7701754feeb97cbea40c6d9b90",
            "icon": "upload"
          }
        },
        "85c168ba8fc54bd59837e2290d8b3a2c": {
          "model_module": "@jupyter-widgets/output",
          "model_name": "OutputModel",
          "state": {
            "_view_name": "OutputView",
            "msg_id": "",
            "_dom_classes": [],
            "_model_name": "OutputModel",
            "outputs": [
              {
                "output_type": "display_data",
                "metadata": {
                  "tags": []
                },
                "image/png": "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\n",
                "text/plain": "<PIL.Image.Image image mode=RGB size=128x75 at 0x7FB859F5C208>"
              }
            ],
            "_view_module": "@jupyter-widgets/output",
            "_model_module_version": "1.0.0",
            "_view_count": null,
            "_view_module_version": "1.0.0",
            "layout": "IPY_MODEL_73fcc48d52bf4dbc9425ff82b94030c4",
            "_model_module": "@jupyter-widgets/output"
          }
        },
        "0b509b87be2b46a799c69dad8c28b8ae": {
          "model_module": "@jupyter-widgets/controls",
          "model_name": "LabelModel",
          "state": {
            "_view_name": "LabelView",
            "style": "IPY_MODEL_79f40c61f60c427f8edd98afcc4b358d",
            "_dom_classes": [],
            "description": "",
            "_model_name": "LabelModel",
            "placeholder": "​",
            "_view_module": "@jupyter-widgets/controls",
            "_model_module_version": "1.5.0",
            "value": "Prediction: black; Probability: 0.9995",
            "_view_count": null,
            "_view_module_version": "1.5.0",
            "description_tooltip": null,
            "_model_module": "@jupyter-widgets/controls",
            "layout": "IPY_MODEL_a1b627a349e644f896e1bbeba0c20064"
          }
        },
        "945857e9489c4d749b66b750b7ca54f7": {
          "model_module": "@jupyter-widgets/controls",
          "model_name": "DescriptionStyleModel",
          "state": {
            "_view_name": "StyleView",
            "_model_name": "DescriptionStyleModel",
            "description_width": "",
            "_view_module": "@jupyter-widgets/base",
            "_model_module_version": "1.5.0",
            "_view_count": null,
            "_view_module_version": "1.2.0",
            "_model_module": "@jupyter-widgets/controls"
          }
        },
        "2eea91de3c8342ed91da28c605271757": {
          "model_module": "@jupyter-widgets/base",
          "model_name": "LayoutModel",
          "state": {
            "_view_name": "LayoutView",
            "grid_template_rows": null,
            "right": null,
            "justify_content": null,
            "_view_module": "@jupyter-widgets/base",
            "overflow": null,
            "_model_module_version": "1.2.0",
            "_view_count": null,
            "flex_flow": null,
            "width": null,
            "min_width": null,
            "border": null,
            "align_items": null,
            "bottom": null,
            "_model_module": "@jupyter-widgets/base",
            "top": null,
            "grid_column": null,
            "overflow_y": null,
            "overflow_x": null,
            "grid_auto_flow": null,
            "grid_area": null,
            "grid_template_columns": null,
            "flex": null,
            "_model_name": "LayoutModel",
            "justify_items": null,
            "grid_row": null,
            "max_height": null,
            "align_content": null,
            "visibility": null,
            "align_self": null,
            "height": null,
            "min_height": null,
            "padding": null,
            "grid_auto_rows": null,
            "grid_gap": null,
            "max_width": null,
            "order": null,
            "_view_module_version": "1.2.0",
            "grid_template_areas": null,
            "object_position": null,
            "object_fit": null,
            "grid_auto_columns": null,
            "margin": null,
            "display": null,
            "left": null
          }
        },
        "8e0fddce758a4078837615f16953f5ae": {
          "model_module": "@jupyter-widgets/controls",
          "model_name": "ButtonStyleModel",
          "state": {
            "_view_name": "StyleView",
            "_model_name": "ButtonStyleModel",
            "_view_module": "@jupyter-widgets/base",
            "_model_module_version": "1.5.0",
            "_view_count": null,
            "button_color": null,
            "font_weight": "",
            "_view_module_version": "1.2.0",
            "_model_module": "@jupyter-widgets/controls"
          }
        },
        "406a4a7701754feeb97cbea40c6d9b90": {
          "model_module": "@jupyter-widgets/base",
          "model_name": "LayoutModel",
          "state": {
            "_view_name": "LayoutView",
            "grid_template_rows": null,
            "right": null,
            "justify_content": null,
            "_view_module": "@jupyter-widgets/base",
            "overflow": null,
            "_model_module_version": "1.2.0",
            "_view_count": null,
            "flex_flow": null,
            "width": null,
            "min_width": null,
            "border": null,
            "align_items": null,
            "bottom": null,
            "_model_module": "@jupyter-widgets/base",
            "top": null,
            "grid_column": null,
            "overflow_y": null,
            "overflow_x": null,
            "grid_auto_flow": null,
            "grid_area": null,
            "grid_template_columns": null,
            "flex": null,
            "_model_name": "LayoutModel",
            "justify_items": null,
            "grid_row": null,
            "max_height": null,
            "align_content": null,
            "visibility": null,
            "align_self": null,
            "height": null,
            "min_height": null,
            "padding": null,
            "grid_auto_rows": null,
            "grid_gap": null,
            "max_width": null,
            "order": null,
            "_view_module_version": "1.2.0",
            "grid_template_areas": null,
            "object_position": null,
            "object_fit": null,
            "grid_auto_columns": null,
            "margin": null,
            "display": null,
            "left": null
          }
        },
        "79f40c61f60c427f8edd98afcc4b358d": {
          "model_module": "@jupyter-widgets/controls",
          "model_name": "DescriptionStyleModel",
          "state": {
            "_view_name": "StyleView",
            "_model_name": "DescriptionStyleModel",
            "description_width": "",
            "_view_module": "@jupyter-widgets/base",
            "_model_module_version": "1.5.0",
            "_view_count": null,
            "_view_module_version": "1.2.0",
            "_model_module": "@jupyter-widgets/controls"
          }
        },
        "a1b627a349e644f896e1bbeba0c20064": {
          "model_module": "@jupyter-widgets/base",
          "model_name": "LayoutModel",
          "state": {
            "_view_name": "LayoutView",
            "grid_template_rows": null,
            "right": null,
            "justify_content": null,
            "_view_module": "@jupyter-widgets/base",
            "overflow": null,
            "_model_module_version": "1.2.0",
            "_view_count": null,
            "flex_flow": null,
            "width": null,
            "min_width": null,
            "border": null,
            "align_items": null,
            "bottom": null,
            "_model_module": "@jupyter-widgets/base",
            "top": null,
            "grid_column": null,
            "overflow_y": null,
            "overflow_x": null,
            "grid_auto_flow": null,
            "grid_area": null,
            "grid_template_columns": null,
            "flex": null,
            "_model_name": "LayoutModel",
            "justify_items": null,
            "grid_row": null,
            "max_height": null,
            "align_content": null,
            "visibility": null,
            "align_self": null,
            "height": null,
            "min_height": null,
            "padding": null,
            "grid_auto_rows": null,
            "grid_gap": null,
            "max_width": null,
            "order": null,
            "_view_module_version": "1.2.0",
            "grid_template_areas": null,
            "object_position": null,
            "object_fit": null,
            "grid_auto_columns": null,
            "margin": null,
            "display": null,
            "left": null
          }
        },
        "73fcc48d52bf4dbc9425ff82b94030c4": {
          "model_module": "@jupyter-widgets/base",
          "model_name": "LayoutModel",
          "state": {
            "_view_name": "LayoutView",
            "grid_template_rows": null,
            "right": null,
            "justify_content": null,
            "_view_module": "@jupyter-widgets/base",
            "overflow": null,
            "_model_module_version": "1.2.0",
            "_view_count": null,
            "flex_flow": null,
            "width": null,
            "min_width": null,
            "border": null,
            "align_items": null,
            "bottom": null,
            "_model_module": "@jupyter-widgets/base",
            "top": null,
            "grid_column": null,
            "overflow_y": null,
            "overflow_x": null,
            "grid_auto_flow": null,
            "grid_area": null,
            "grid_template_columns": null,
            "flex": null,
            "_model_name": "LayoutModel",
            "justify_items": null,
            "grid_row": null,
            "max_height": null,
            "align_content": null,
            "visibility": null,
            "align_self": null,
            "height": null,
            "min_height": null,
            "padding": null,
            "grid_auto_rows": null,
            "grid_gap": null,
            "max_width": null,
            "order": null,
            "_view_module_version": "1.2.0",
            "grid_template_areas": null,
            "object_position": null,
            "object_fit": null,
            "grid_auto_columns": null,
            "margin": null,
            "display": null,
            "left": null
          }
        }
      }
    }
  },
  "cells": [
    {
      "cell_type": "markdown",
      "metadata": {
        "id": "view-in-github",
        "colab_type": "text"
      },
      "source": [
        "<a href=\"https://colab.research.google.com/github/noah40povis/fastbook/blob/master/bear_classifier.ipynb\" target=\"_parent\"><img src=\"https://colab.research.google.com/assets/colab-badge.svg\" alt=\"Open In Colab\"/></a>"
      ]
    },
    {
      "cell_type": "code",
      "metadata": {
        "id": "_03ud7NgYdJ5"
      },
      "source": [
        "# !pip install -Uqq fastbook\n",
        "# !pip install voila\n",
        "# !jupyter serverextension enable --sys-prefix voila \n",
        "# pip install fastai2\n",
        "# !pip install update fastcore"
      ],
      "execution_count": null,
      "outputs": []
    },
    {
      "cell_type": "code",
      "metadata": {
        "id": "mDHYaeOObIDP"
      },
      "source": [
        "!pip install fastcore==1.3.12"
      ],
      "execution_count": null,
      "outputs": []
    },
    {
      "cell_type": "code",
      "metadata": {
        "colab": {
          "base_uri": "https://localhost:8080/"
        },
        "id": "CtdIJJGjF-eW",
        "outputId": "4e2c73fd-56ed-46dc-cc38-f7ff1738b911"
      },
      "source": [
        "!pip install fastai==2.1.9\n",
        "!pip install fastcore==1.3.12"
      ],
      "execution_count": null,
      "outputs": [
        {
          "output_type": "stream",
          "text": [
            "Collecting fastai==2.1.9\n",
            "\u001b[?25l  Downloading https://files.pythonhosted.org/packages/0c/55/53a6e59561f97e6b2699e665d587aaf1502ea1efc428e17e17a1a7e23af1/fastai-2.1.9-py3-none-any.whl (190kB)\n",
            "\r\u001b[K     |█▊                              | 10kB 16.8MB/s eta 0:00:01\r\u001b[K     |███▌                            | 20kB 22.2MB/s eta 0:00:01\r\u001b[K     |█████▏                          | 30kB 9.4MB/s eta 0:00:01\r\u001b[K     |███████                         | 40kB 8.1MB/s eta 0:00:01\r\u001b[K     |████████▋                       | 51kB 4.3MB/s eta 0:00:01\r\u001b[K     |██████████▍                     | 61kB 4.7MB/s eta 0:00:01\r\u001b[K     |████████████                    | 71kB 5.0MB/s eta 0:00:01\r\u001b[K     |█████████████▉                  | 81kB 5.4MB/s eta 0:00:01\r\u001b[K     |███████████████▌                | 92kB 5.3MB/s eta 0:00:01\r\u001b[K     |█████████████████▎              | 102kB 5.8MB/s eta 0:00:01\r\u001b[K     |███████████████████             | 112kB 5.8MB/s eta 0:00:01\r\u001b[K     |████████████████████▊           | 122kB 5.8MB/s eta 0:00:01\r\u001b[K     |██████████████████████▍         | 133kB 5.8MB/s eta 0:00:01\r\u001b[K     |████████████████████████▏       | 143kB 5.8MB/s eta 0:00:01\r\u001b[K     |█████████████████████████▉      | 153kB 5.8MB/s eta 0:00:01\r\u001b[K     |███████████████████████████▋    | 163kB 5.8MB/s eta 0:00:01\r\u001b[K     |█████████████████████████████▎  | 174kB 5.8MB/s eta 0:00:01\r\u001b[K     |███████████████████████████████ | 184kB 5.8MB/s eta 0:00:01\r\u001b[K     |████████████████████████████████| 194kB 5.8MB/s \n",
            "\u001b[?25hRequirement already satisfied: spacy in /usr/local/lib/python3.6/dist-packages (from fastai==2.1.9) (2.2.4)\n",
            "Collecting fastcore>=1.3.8\n",
            "\u001b[?25l  Downloading https://files.pythonhosted.org/packages/5c/ad/7c358331783cf8220e1bd0cca52df3e6092b3f6d4ce5b837fffbc9a64c53/fastcore-1.3.12-py3-none-any.whl (51kB)\n",
            "\u001b[K     |████████████████████████████████| 61kB 6.6MB/s \n",
            "\u001b[?25hRequirement already satisfied: pip in /usr/local/lib/python3.6/dist-packages (from fastai==2.1.9) (19.3.1)\n",
            "Requirement already satisfied: fastprogress>=0.2.4 in /usr/local/lib/python3.6/dist-packages (from fastai==2.1.9) (1.0.0)\n",
            "Requirement already satisfied: packaging in /usr/local/lib/python3.6/dist-packages (from fastai==2.1.9) (20.7)\n",
            "Requirement already satisfied: scipy in /usr/local/lib/python3.6/dist-packages (from fastai==2.1.9) (1.4.1)\n",
            "Requirement already satisfied: scikit-learn in /usr/local/lib/python3.6/dist-packages (from fastai==2.1.9) (0.22.2.post1)\n",
            "Requirement already satisfied: pandas in /usr/local/lib/python3.6/dist-packages (from fastai==2.1.9) (1.1.5)\n",
            "Requirement already satisfied: pyyaml in /usr/local/lib/python3.6/dist-packages (from fastai==2.1.9) (3.13)\n",
            "Requirement already satisfied: pillow>6.0.0 in /usr/local/lib/python3.6/dist-packages (from fastai==2.1.9) (7.0.0)\n",
            "Requirement already satisfied: requests in /usr/local/lib/python3.6/dist-packages (from fastai==2.1.9) (2.23.0)\n",
            "Requirement already satisfied: torch>=1.7.0 in /usr/local/lib/python3.6/dist-packages (from fastai==2.1.9) (1.7.0+cu101)\n",
            "Requirement already satisfied: matplotlib in /usr/local/lib/python3.6/dist-packages (from fastai==2.1.9) (3.2.2)\n",
            "Requirement already satisfied: torchvision>=0.8 in /usr/local/lib/python3.6/dist-packages (from fastai==2.1.9) (0.8.1+cu101)\n",
            "Requirement already satisfied: numpy>=1.15.0 in /usr/local/lib/python3.6/dist-packages (from spacy->fastai==2.1.9) (1.18.5)\n",
            "Requirement already satisfied: preshed<3.1.0,>=3.0.2 in /usr/local/lib/python3.6/dist-packages (from spacy->fastai==2.1.9) (3.0.5)\n",
            "Requirement already satisfied: thinc==7.4.0 in /usr/local/lib/python3.6/dist-packages (from spacy->fastai==2.1.9) (7.4.0)\n",
            "Requirement already satisfied: srsly<1.1.0,>=1.0.2 in /usr/local/lib/python3.6/dist-packages (from spacy->fastai==2.1.9) (1.0.5)\n",
            "Requirement already satisfied: blis<0.5.0,>=0.4.0 in /usr/local/lib/python3.6/dist-packages (from spacy->fastai==2.1.9) (0.4.1)\n",
            "Requirement already satisfied: wasabi<1.1.0,>=0.4.0 in /usr/local/lib/python3.6/dist-packages (from spacy->fastai==2.1.9) (0.8.0)\n",
            "Requirement already satisfied: plac<1.2.0,>=0.9.6 in /usr/local/lib/python3.6/dist-packages (from spacy->fastai==2.1.9) (1.1.3)\n",
            "Requirement already satisfied: setuptools in /usr/local/lib/python3.6/dist-packages (from spacy->fastai==2.1.9) (50.3.2)\n",
            "Requirement already satisfied: murmurhash<1.1.0,>=0.28.0 in /usr/local/lib/python3.6/dist-packages (from spacy->fastai==2.1.9) (1.0.5)\n",
            "Requirement already satisfied: tqdm<5.0.0,>=4.38.0 in /usr/local/lib/python3.6/dist-packages (from spacy->fastai==2.1.9) (4.41.1)\n",
            "Requirement already satisfied: cymem<2.1.0,>=2.0.2 in /usr/local/lib/python3.6/dist-packages (from spacy->fastai==2.1.9) (2.0.5)\n",
            "Requirement already satisfied: catalogue<1.1.0,>=0.0.7 in /usr/local/lib/python3.6/dist-packages (from spacy->fastai==2.1.9) (1.0.0)\n",
            "Requirement already satisfied: pyparsing>=2.0.2 in /usr/local/lib/python3.6/dist-packages (from packaging->fastai==2.1.9) (2.4.7)\n",
            "Requirement already satisfied: joblib>=0.11 in /usr/local/lib/python3.6/dist-packages (from scikit-learn->fastai==2.1.9) (0.17.0)\n",
            "Requirement already satisfied: pytz>=2017.2 in /usr/local/lib/python3.6/dist-packages (from pandas->fastai==2.1.9) (2018.9)\n",
            "Requirement already satisfied: python-dateutil>=2.7.3 in /usr/local/lib/python3.6/dist-packages (from pandas->fastai==2.1.9) (2.8.1)\n",
            "Requirement already satisfied: urllib3!=1.25.0,!=1.25.1,<1.26,>=1.21.1 in /usr/local/lib/python3.6/dist-packages (from requests->fastai==2.1.9) (1.24.3)\n",
            "Requirement already satisfied: idna<3,>=2.5 in /usr/local/lib/python3.6/dist-packages (from requests->fastai==2.1.9) (2.10)\n",
            "Requirement already satisfied: chardet<4,>=3.0.2 in /usr/local/lib/python3.6/dist-packages (from requests->fastai==2.1.9) (3.0.4)\n",
            "Requirement already satisfied: certifi>=2017.4.17 in /usr/local/lib/python3.6/dist-packages (from requests->fastai==2.1.9) (2020.12.5)\n",
            "Requirement already satisfied: typing-extensions in /usr/local/lib/python3.6/dist-packages (from torch>=1.7.0->fastai==2.1.9) (3.7.4.3)\n",
            "Requirement already satisfied: future in /usr/local/lib/python3.6/dist-packages (from torch>=1.7.0->fastai==2.1.9) (0.16.0)\n",
            "Requirement already satisfied: dataclasses in /usr/local/lib/python3.6/dist-packages (from torch>=1.7.0->fastai==2.1.9) (0.8)\n",
            "Requirement already satisfied: kiwisolver>=1.0.1 in /usr/local/lib/python3.6/dist-packages (from matplotlib->fastai==2.1.9) (1.3.1)\n",
            "Requirement already satisfied: cycler>=0.10 in /usr/local/lib/python3.6/dist-packages (from matplotlib->fastai==2.1.9) (0.10.0)\n",
            "Requirement already satisfied: importlib-metadata>=0.20; python_version < \"3.8\" in /usr/local/lib/python3.6/dist-packages (from catalogue<1.1.0,>=0.0.7->spacy->fastai==2.1.9) (3.1.1)\n",
            "Requirement already satisfied: six>=1.5 in /usr/local/lib/python3.6/dist-packages (from python-dateutil>=2.7.3->pandas->fastai==2.1.9) (1.15.0)\n",
            "Requirement already satisfied: zipp>=0.5 in /usr/local/lib/python3.6/dist-packages (from importlib-metadata>=0.20; python_version < \"3.8\"->catalogue<1.1.0,>=0.0.7->spacy->fastai==2.1.9) (3.4.0)\n",
            "Installing collected packages: fastcore, fastai\n",
            "  Found existing installation: fastai 1.0.61\n",
            "    Uninstalling fastai-1.0.61:\n",
            "      Successfully uninstalled fastai-1.0.61\n",
            "Successfully installed fastai-2.1.9 fastcore-1.3.12\n",
            "Requirement already satisfied: fastcore==1.3.12 in /usr/local/lib/python3.6/dist-packages (1.3.12)\n",
            "Requirement already satisfied: pip in /usr/local/lib/python3.6/dist-packages (from fastcore==1.3.12) (19.3.1)\n",
            "Requirement already satisfied: packaging in /usr/local/lib/python3.6/dist-packages (from fastcore==1.3.12) (20.7)\n",
            "Requirement already satisfied: pyparsing>=2.0.2 in /usr/local/lib/python3.6/dist-packages (from packaging->fastcore==1.3.12) (2.4.7)\n"
          ],
          "name": "stdout"
        }
      ]
    },
    {
      "cell_type": "code",
      "metadata": {
        "id": "gagXL0e-fgCk"
      },
      "source": [
        "!pip install torch torchvision torchaudio"
      ],
      "execution_count": null,
      "outputs": []
    },
    {
      "cell_type": "code",
      "metadata": {
        "id": "MJWYSQo-fMMF"
      },
      "source": [
        "import fastcore\n",
        "import torch "
      ],
      "execution_count": null,
      "outputs": []
    },
    {
      "cell_type": "code",
      "metadata": {
        "id": "O7IbzZrAdHuE"
      },
      "source": [
        "!pip install fastai --upgrade"
      ],
      "execution_count": null,
      "outputs": []
    },
    {
      "cell_type": "code",
      "metadata": {
        "id": "aalhtWDmeIj7"
      },
      "source": [
        "from fastai.vision.all import *\n",
        "from fastai.vision.widgets import *"
      ],
      "execution_count": null,
      "outputs": []
    },
    {
      "cell_type": "code",
      "metadata": {
        "id": "6LbFLzyaQjIG"
      },
      "source": [
        "path = Path()\n",
        "learn_inf = load_learner(path/'export.pkl')\n",
        "btn_upload = widgets.FileUpload()\n",
        "out_pl = widgets.Output()\n",
        "lbl_pred = widgets.Label()"
      ],
      "execution_count": null,
      "outputs": []
    },
    {
      "cell_type": "code",
      "metadata": {
        "id": "X8UHRjFqYWIU"
      },
      "source": [
        "\n",
        "def on_data_change(change):\n",
        "    lbl_pred.value = ''\n",
        "    img = PILImage.create(btn_upload.data[-1])\n",
        "    out_pl.clear_output()\n",
        "    with out_pl: display(img.to_thumb(128,128))\n",
        "    pred,pred_idx,probs = learn_inf.predict(img)\n",
        "    lbl_pred.value = f'Prediction: {pred}; Probability: {probs[pred_idx]:.04f}'"
      ],
      "execution_count": null,
      "outputs": []
    },
    {
      "cell_type": "code",
      "metadata": {
        "id": "VvdzyZgJIKmR"
      },
      "source": [
        "btn_upload.observe(on_data_change, names=['data'])"
      ],
      "execution_count": null,
      "outputs": []
    },
    {
      "cell_type": "code",
      "metadata": {
        "id": "LbUUFfBNYZGt",
        "colab": {
          "base_uri": "https://localhost:8080/",
          "height": 188,
          "referenced_widgets": [
            "29c5c056036447b5baf3064dd756fc3e",
            "18438da902604355aadc1f0b3b796350",
            "0cf5bfe679e248c08af88bcaa3883df2",
            "38c18df29140431ea76258f78b0902f2",
            "85c168ba8fc54bd59837e2290d8b3a2c",
            "0b509b87be2b46a799c69dad8c28b8ae",
            "945857e9489c4d749b66b750b7ca54f7",
            "2eea91de3c8342ed91da28c605271757",
            "8e0fddce758a4078837615f16953f5ae",
            "406a4a7701754feeb97cbea40c6d9b90",
            "79f40c61f60c427f8edd98afcc4b358d",
            "a1b627a349e644f896e1bbeba0c20064",
            "73fcc48d52bf4dbc9425ff82b94030c4"
          ]
        },
        "outputId": "4493c8a3-18dd-4945-bfeb-ca94b4763e11"
      },
      "source": [
        "display(VBox([widgets.Label('Select your bear!'), btn_upload, out_pl, lbl_pred]))"
      ],
      "execution_count": null,
      "outputs": [
        {
          "output_type": "display_data",
          "data": {
            "application/vnd.jupyter.widget-view+json": {
              "model_id": "29c5c056036447b5baf3064dd756fc3e",
              "version_minor": 0,
              "version_major": 2
            },
            "text/plain": [
              "VBox(children=(Label(value='Select your bear!'), FileUpload(value={}, description='Upload'), Output(), Label(v…"
            ]
          },
          "metadata": {
            "tags": []
          }
        },
        {
          "output_type": "display_data",
          "data": {
            "text/html": [
              ""
            ],
            "text/plain": [
              "<IPython.core.display.HTML object>"
            ]
          },
          "metadata": {
            "tags": []
          }
        },
        {
          "output_type": "display_data",
          "data": {
            "text/html": [
              ""
            ],
            "text/plain": [
              "<IPython.core.display.HTML object>"
            ]
          },
          "metadata": {
            "tags": []
          }
        }
      ]
    }
  ]
}